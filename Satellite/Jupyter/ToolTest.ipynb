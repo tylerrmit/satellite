{
 "cells": [
  {
   "cell_type": "code",
   "execution_count": 1,
   "metadata": {},
   "outputs": [],
   "source": [
    "# Make sure local Python modules in \"Contrib\" can be imported\n",
    "import sys\n",
    "import os\n",
    "\n",
    "module_path = os.path.abspath(os.path.join(os.pardir, os.pardir))\n",
    "if module_path not in sys.path:\n",
    "    sys.path.append(module_path)\n",
    "    \n",
    "# Set current directory to where data is\n",
    "import configparser\n",
    "config = configparser.ConfigParser()\n",
    "config.read('jupyter_satellites.config')\n",
    "data_path = config.get('Jupyter_Notebooks', 'data_path')\n",
    "os.chdir(data_path)"
   ]
  },
  {
   "cell_type": "code",
   "execution_count": 9,
   "metadata": {},
   "outputs": [
    {
     "data": {
      "application/vnd.jupyter.widget-view+json": {
       "model_id": "41560b22ae2c45859f9e52b22e8108d1",
       "version_major": 2,
       "version_minor": 0
      },
      "text/plain": [
       "Text(value='', description='Address', layout=Layout(width='100%'))"
      ]
     },
     "metadata": {},
     "output_type": "display_data"
    },
    {
     "name": "stdout",
     "output_type": "stream",
     "text": [
      "{'x': 145.104084, 'y': -38.198223}\n"
     ]
    }
   ],
   "source": [
    "import ipywidgets as widgets\n",
    "\n",
    "# Local module for geocoding\n",
    "import Satellite.Contrib.addressGeocode as geocode\n",
    "\n",
    "address=widgets.Text(\n",
    "    description='Address',\n",
    "    layout=widgets.Layout(width='100%')\n",
    ")\n",
    "\n",
    "# Global variable to store desired location\n",
    "latlong = 0\n",
    "\n",
    "def handle_geocode_submit(sender):\n",
    "    global latlong\n",
    "    latlong = geocode.addressGeocode(address.value)\n",
    "    print(latlong)\n",
    "    \n",
    "address.on_submit(handle_geocode_submit)\n",
    "\n",
    "display(address)"
   ]
  },
  {
   "cell_type": "code",
   "execution_count": 8,
   "metadata": {},
   "outputs": [
    {
     "name": "stdout",
     "output_type": "stream",
     "text": [
      "{'x': 145.104084, 'y': -38.198223}\n"
     ]
    }
   ],
   "source": [
    "print(latlong)"
   ]
  },
  {
   "cell_type": "code",
   "execution_count": null,
   "metadata": {},
   "outputs": [],
   "source": []
  }
 ],
 "metadata": {
  "kernelspec": {
   "display_name": "Python 3",
   "language": "python",
   "name": "python3"
  },
  "language_info": {
   "codemirror_mode": {
    "name": "ipython",
    "version": 3
   },
   "file_extension": ".py",
   "mimetype": "text/x-python",
   "name": "python",
   "nbconvert_exporter": "python",
   "pygments_lexer": "ipython3",
   "version": "3.7.3"
  }
 },
 "nbformat": 4,
 "nbformat_minor": 2
}
